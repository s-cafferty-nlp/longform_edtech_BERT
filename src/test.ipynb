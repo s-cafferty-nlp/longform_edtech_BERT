{
 "cells": [
  {
   "cell_type": "code",
   "execution_count": 1,
   "metadata": {},
   "outputs": [],
   "source": [
    "from longform import * "
   ]
  },
  {
   "cell_type": "code",
   "execution_count": 2,
   "metadata": {},
   "outputs": [],
   "source": [
    "tokenizer_name = 'bert-base-cased'\n",
    "model_name = 'bert-base-cased'"
   ]
  },
  {
   "cell_type": "code",
   "execution_count": null,
   "metadata": {},
   "outputs": [],
   "source": [
    "QuestionGenerator = Longform(tokenizer_name, model_name)"
   ]
  },
  {
   "cell_type": "code",
   "execution_count": 5,
   "metadata": {},
   "outputs": [
    {
     "name": "stderr",
     "output_type": "stream",
     "text": [
      "3it [00:42, 14.22s/it]\n"
     ]
    }
   ],
   "source": [
    "topics = ['the history of Japan','unicorns','oak trees']\n",
    "save = True\n",
    "ans_path='../data/answers.txt'\n",
    "question_path='../data/questions.txt'\n",
    "top_k=2000 ## Size of pool of alternative words to choose from, higher number == more choices\n",
    "offset=500 ## Higher offset => how different words are from the actual answer\n",
    "top_words=10 ## Number of words to be removed in text\n",
    "choices=5 ## Number of alternative words in answer \n",
    "\n",
    "QuestionGenerator.generate_longform_questions(topics, save, ans_path, question_path, top_k, offset, top_words, choices)"
   ]
  }
 ],
 "metadata": {
  "kernelspec": {
   "display_name": "Python 3",
   "language": "python",
   "name": "python3"
  },
  "language_info": {
   "codemirror_mode": {
    "name": "ipython",
    "version": 3
   },
   "file_extension": ".py",
   "mimetype": "text/x-python",
   "name": "python",
   "nbconvert_exporter": "python",
   "pygments_lexer": "ipython3",
   "version": "3.9.6"
  },
  "orig_nbformat": 4,
  "vscode": {
   "interpreter": {
    "hash": "31f2aee4e71d21fbe5cf8b01ff0e069b9275f58929596ceb00d14d90e3e16cd6"
   }
  }
 },
 "nbformat": 4,
 "nbformat_minor": 2
}
